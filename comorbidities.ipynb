{
 "metadata": {
  "language_info": {
   "codemirror_mode": {
    "name": "ipython",
    "version": 3
   },
   "file_extension": ".py",
   "mimetype": "text/x-python",
   "name": "python",
   "nbconvert_exporter": "python",
   "pygments_lexer": "ipython3",
   "version": "3.7.7-final"
  },
  "orig_nbformat": 2,
  "kernelspec": {
   "name": "python_defaultSpec_1599320156999",
   "display_name": "Python 3.7.7 64-bit ('base': conda)"
  }
 },
 "nbformat": 4,
 "nbformat_minor": 2,
 "cells": [
  {
   "cell_type": "code",
   "execution_count": 3,
   "metadata": {},
   "outputs": [],
   "source": [
    "import pandas as pd\n",
    "import numpy as np\n",
    "\n",
    "morbid_df = pd.read_csv('Conditions_contributing_to_deaths_involving_coronavirus_disease_2019__COVID-19___by_age_group_and_state__United_States.csv')"
   ]
  },
  {
   "cell_type": "code",
   "execution_count": 4,
   "metadata": {},
   "outputs": [
    {
     "output_type": "execute_result",
     "data": {
      "text/plain": "       Data as of  Start Week    End Week State           Condition Group  \\\n0      08/30/2020  02/01/2020  08/29/2020    US      Respiratory diseases   \n1      08/30/2020  02/01/2020  08/29/2020    US      Respiratory diseases   \n2      08/30/2020  02/01/2020  08/29/2020    US      Respiratory diseases   \n3      08/30/2020  02/01/2020  08/29/2020    US      Respiratory diseases   \n4      08/30/2020  02/01/2020  08/29/2020    US      Respiratory diseases   \n...           ...         ...         ...   ...                       ...   \n12255  08/30/2020  02/01/2020  08/29/2020    YC  Coronavirus Disease 2019   \n12256  08/30/2020  02/01/2020  08/29/2020    YC  Coronavirus Disease 2019   \n12257  08/30/2020  02/01/2020  08/29/2020    YC  Coronavirus Disease 2019   \n12258  08/30/2020  02/01/2020  08/29/2020    YC  Coronavirus Disease 2019   \n12259  08/30/2020  02/01/2020  08/29/2020    YC  Coronavirus Disease 2019   \n\n                     Condition ICD10_codes   Age Group  \\\n0      Influenza and pneumonia     J09-J18        0-24   \n1      Influenza and pneumonia     J09-J18       25-34   \n2      Influenza and pneumonia     J09-J18       35-44   \n3      Influenza and pneumonia     J09-J18       45-54   \n4      Influenza and pneumonia     J09-J18       55-64   \n...                        ...         ...         ...   \n12255                 COVID-19        U071       65-74   \n12256                 COVID-19        U071       75-84   \n12257                 COVID-19        U071         85+   \n12258                 COVID-19        U071  Not stated   \n12259                 COVID-19        U071    All ages   \n\n       Number of COVID-19 Deaths                             Flag  \n0                          122.0                              NaN  \n1                          596.0                              NaN  \n2                         1521.0                              NaN  \n3                         4186.0                              NaN  \n4                        10014.0                              NaN  \n...                          ...                              ...  \n12255                     5024.0                              NaN  \n12256                     5381.0                              NaN  \n12257                     4841.0                              NaN  \n12258                        NaN  Counts less than 10 suppressed.  \n12259                    20628.0                              NaN  \n\n[12260 rows x 10 columns]",
      "text/html": "<div>\n<style scoped>\n    .dataframe tbody tr th:only-of-type {\n        vertical-align: middle;\n    }\n\n    .dataframe tbody tr th {\n        vertical-align: top;\n    }\n\n    .dataframe thead th {\n        text-align: right;\n    }\n</style>\n<table border=\"1\" class=\"dataframe\">\n  <thead>\n    <tr style=\"text-align: right;\">\n      <th></th>\n      <th>Data as of</th>\n      <th>Start Week</th>\n      <th>End Week</th>\n      <th>State</th>\n      <th>Condition Group</th>\n      <th>Condition</th>\n      <th>ICD10_codes</th>\n      <th>Age Group</th>\n      <th>Number of COVID-19 Deaths</th>\n      <th>Flag</th>\n    </tr>\n  </thead>\n  <tbody>\n    <tr>\n      <th>0</th>\n      <td>08/30/2020</td>\n      <td>02/01/2020</td>\n      <td>08/29/2020</td>\n      <td>US</td>\n      <td>Respiratory diseases</td>\n      <td>Influenza and pneumonia</td>\n      <td>J09-J18</td>\n      <td>0-24</td>\n      <td>122.0</td>\n      <td>NaN</td>\n    </tr>\n    <tr>\n      <th>1</th>\n      <td>08/30/2020</td>\n      <td>02/01/2020</td>\n      <td>08/29/2020</td>\n      <td>US</td>\n      <td>Respiratory diseases</td>\n      <td>Influenza and pneumonia</td>\n      <td>J09-J18</td>\n      <td>25-34</td>\n      <td>596.0</td>\n      <td>NaN</td>\n    </tr>\n    <tr>\n      <th>2</th>\n      <td>08/30/2020</td>\n      <td>02/01/2020</td>\n      <td>08/29/2020</td>\n      <td>US</td>\n      <td>Respiratory diseases</td>\n      <td>Influenza and pneumonia</td>\n      <td>J09-J18</td>\n      <td>35-44</td>\n      <td>1521.0</td>\n      <td>NaN</td>\n    </tr>\n    <tr>\n      <th>3</th>\n      <td>08/30/2020</td>\n      <td>02/01/2020</td>\n      <td>08/29/2020</td>\n      <td>US</td>\n      <td>Respiratory diseases</td>\n      <td>Influenza and pneumonia</td>\n      <td>J09-J18</td>\n      <td>45-54</td>\n      <td>4186.0</td>\n      <td>NaN</td>\n    </tr>\n    <tr>\n      <th>4</th>\n      <td>08/30/2020</td>\n      <td>02/01/2020</td>\n      <td>08/29/2020</td>\n      <td>US</td>\n      <td>Respiratory diseases</td>\n      <td>Influenza and pneumonia</td>\n      <td>J09-J18</td>\n      <td>55-64</td>\n      <td>10014.0</td>\n      <td>NaN</td>\n    </tr>\n    <tr>\n      <th>...</th>\n      <td>...</td>\n      <td>...</td>\n      <td>...</td>\n      <td>...</td>\n      <td>...</td>\n      <td>...</td>\n      <td>...</td>\n      <td>...</td>\n      <td>...</td>\n      <td>...</td>\n    </tr>\n    <tr>\n      <th>12255</th>\n      <td>08/30/2020</td>\n      <td>02/01/2020</td>\n      <td>08/29/2020</td>\n      <td>YC</td>\n      <td>Coronavirus Disease 2019</td>\n      <td>COVID-19</td>\n      <td>U071</td>\n      <td>65-74</td>\n      <td>5024.0</td>\n      <td>NaN</td>\n    </tr>\n    <tr>\n      <th>12256</th>\n      <td>08/30/2020</td>\n      <td>02/01/2020</td>\n      <td>08/29/2020</td>\n      <td>YC</td>\n      <td>Coronavirus Disease 2019</td>\n      <td>COVID-19</td>\n      <td>U071</td>\n      <td>75-84</td>\n      <td>5381.0</td>\n      <td>NaN</td>\n    </tr>\n    <tr>\n      <th>12257</th>\n      <td>08/30/2020</td>\n      <td>02/01/2020</td>\n      <td>08/29/2020</td>\n      <td>YC</td>\n      <td>Coronavirus Disease 2019</td>\n      <td>COVID-19</td>\n      <td>U071</td>\n      <td>85+</td>\n      <td>4841.0</td>\n      <td>NaN</td>\n    </tr>\n    <tr>\n      <th>12258</th>\n      <td>08/30/2020</td>\n      <td>02/01/2020</td>\n      <td>08/29/2020</td>\n      <td>YC</td>\n      <td>Coronavirus Disease 2019</td>\n      <td>COVID-19</td>\n      <td>U071</td>\n      <td>Not stated</td>\n      <td>NaN</td>\n      <td>Counts less than 10 suppressed.</td>\n    </tr>\n    <tr>\n      <th>12259</th>\n      <td>08/30/2020</td>\n      <td>02/01/2020</td>\n      <td>08/29/2020</td>\n      <td>YC</td>\n      <td>Coronavirus Disease 2019</td>\n      <td>COVID-19</td>\n      <td>U071</td>\n      <td>All ages</td>\n      <td>20628.0</td>\n      <td>NaN</td>\n    </tr>\n  </tbody>\n</table>\n<p>12260 rows × 10 columns</p>\n</div>"
     },
     "metadata": {},
     "execution_count": 4
    }
   ],
   "source": [
    "morbid_df"
   ]
  },
  {
   "cell_type": "code",
   "execution_count": 5,
   "metadata": {},
   "outputs": [
    {
     "output_type": "execute_result",
     "data": {
      "text/plain": "                                                    Number of COVID-19 Deaths\nCondition Group                                                              \nAll other conditions and causes (residual)                         907.126722\nAlzheimer disease                                                  162.277778\nCirculatory diseases                                               306.973387\nCoronavirus Disease 2019                                          1792.416446\nDiabetes                                                           397.213768\nIntentional and unintentional injury, poisoning...                 112.095745\nMalignant neoplasms                                                154.989899\nObesity                                                            128.934066\nRenal failure                                                      241.705882\nRespiratory diseases                                               482.786354\nSepsis                                                             243.390947\nVascular and unspecified dementia                                  404.963351",
      "text/html": "<div>\n<style scoped>\n    .dataframe tbody tr th:only-of-type {\n        vertical-align: middle;\n    }\n\n    .dataframe tbody tr th {\n        vertical-align: top;\n    }\n\n    .dataframe thead th {\n        text-align: right;\n    }\n</style>\n<table border=\"1\" class=\"dataframe\">\n  <thead>\n    <tr style=\"text-align: right;\">\n      <th></th>\n      <th>Number of COVID-19 Deaths</th>\n    </tr>\n    <tr>\n      <th>Condition Group</th>\n      <th></th>\n    </tr>\n  </thead>\n  <tbody>\n    <tr>\n      <th>All other conditions and causes (residual)</th>\n      <td>907.126722</td>\n    </tr>\n    <tr>\n      <th>Alzheimer disease</th>\n      <td>162.277778</td>\n    </tr>\n    <tr>\n      <th>Circulatory diseases</th>\n      <td>306.973387</td>\n    </tr>\n    <tr>\n      <th>Coronavirus Disease 2019</th>\n      <td>1792.416446</td>\n    </tr>\n    <tr>\n      <th>Diabetes</th>\n      <td>397.213768</td>\n    </tr>\n    <tr>\n      <th>Intentional and unintentional injury, poisoning and other adverse events</th>\n      <td>112.095745</td>\n    </tr>\n    <tr>\n      <th>Malignant neoplasms</th>\n      <td>154.989899</td>\n    </tr>\n    <tr>\n      <th>Obesity</th>\n      <td>128.934066</td>\n    </tr>\n    <tr>\n      <th>Renal failure</th>\n      <td>241.705882</td>\n    </tr>\n    <tr>\n      <th>Respiratory diseases</th>\n      <td>482.786354</td>\n    </tr>\n    <tr>\n      <th>Sepsis</th>\n      <td>243.390947</td>\n    </tr>\n    <tr>\n      <th>Vascular and unspecified dementia</th>\n      <td>404.963351</td>\n    </tr>\n  </tbody>\n</table>\n</div>"
     },
     "metadata": {},
     "execution_count": 5
    }
   ],
   "source": [
    "morbid_df.groupby(['Condition Group']).mean()"
   ]
  },
  {
   "cell_type": "code",
   "execution_count": 7,
   "metadata": {},
   "outputs": [
    {
     "output_type": "execute_result",
     "data": {
      "text/plain": "54"
     },
     "metadata": {},
     "execution_count": 7
    }
   ],
   "source": [
    "morbid_df.State.nunique()"
   ]
  },
  {
   "cell_type": "code",
   "execution_count": 8,
   "metadata": {},
   "outputs": [
    {
     "output_type": "execute_result",
     "data": {
      "text/plain": "OR    230\nMO    230\nCA    230\nMN    230\nKY    230\nPR    230\nLA    230\nKS    230\nWI    230\nRI    230\nSD    230\nCT    230\nTX    230\nMI    230\nME    230\nNE    230\nIL    230\nMA    230\nSC    230\nAL    230\nNH    230\nUT    230\nAR    230\nDE    230\nCO    230\nNJ    230\nND    230\nNY    230\nAZ    230\nIA    230\nID    230\nUS    230\nOK    230\nPA    230\nWA    230\nIN    230\nMS    230\nFL    230\nYC    230\nOH    230\nNV    230\nTN    230\nVA    230\nMD    230\nNM    230\nGA    230\nNC    230\nWV    220\nMT    220\nHI    220\nDC    210\nAK    200\nVT    200\nWY    180\nName: State, dtype: int64"
     },
     "metadata": {},
     "execution_count": 8
    }
   ],
   "source": [
    "morbid_df.State.value_counts()"
   ]
  },
  {
   "cell_type": "code",
   "execution_count": null,
   "metadata": {},
   "outputs": [],
   "source": []
  }
 ]
}